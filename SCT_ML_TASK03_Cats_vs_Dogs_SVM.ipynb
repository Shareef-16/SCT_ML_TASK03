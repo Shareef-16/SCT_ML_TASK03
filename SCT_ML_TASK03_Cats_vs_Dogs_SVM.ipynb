{
  "nbformat": 4,
  "nbformat_minor": 0,
  "metadata": {
    "colab": {
      "provenance": []
    },
    "kernelspec": {
      "name": "python3",
      "display_name": "Python 3"
    },
    "language_info": {
      "name": "python"
    }
  },
  "cells": [
    {
      "cell_type": "code",
      "execution_count": 1,
      "metadata": {
        "colab": {
          "base_uri": "https://localhost:8080/"
        },
        "id": "CetgUJlp22aO",
        "outputId": "0685669e-da8a-4e93-ffb3-138cc9f4bc70"
      },
      "outputs": [
        {
          "output_type": "stream",
          "name": "stdout",
          "text": [
            "Classification Report:\n",
            "               precision    recall  f1-score   support\n",
            "\n",
            "           0       1.00      1.00      1.00        97\n",
            "           1       1.00      1.00      1.00       103\n",
            "\n",
            "    accuracy                           1.00       200\n",
            "   macro avg       1.00      1.00      1.00       200\n",
            "weighted avg       1.00      1.00      1.00       200\n",
            "\n",
            "Confusion Matrix:\n",
            " [[ 97   0]\n",
            " [  0 103]]\n"
          ]
        }
      ],
      "source": [
        "import numpy as np\n",
        "from sklearn.model_selection import train_test_split\n",
        "from sklearn.svm import SVC\n",
        "from sklearn.metrics import classification_report, confusion_matrix\n",
        "import matplotlib.pyplot as plt\n",
        "\n",
        "# Simulate dataset\n",
        "def generate_image_data(n_samples=1000, img_size=(32, 32)):\n",
        "    X = []\n",
        "    y = []\n",
        "    for i in range(n_samples):\n",
        "        if i % 2 == 0:\n",
        "            # \"Cat\": generate images with random noise\n",
        "            img = np.random.normal(loc=0.3, scale=0.2, size=img_size)\n",
        "            label = 0\n",
        "        else:\n",
        "            # \"Dog\": generate images with different noise\n",
        "            img = np.random.normal(loc=0.7, scale=0.2, size=img_size)\n",
        "            label = 1\n",
        "        img = np.clip(img, 0, 1)\n",
        "        X.append(img.flatten())\n",
        "        y.append(label)\n",
        "    return np.array(X), np.array(y)\n",
        "\n",
        "# Generate data\n",
        "X, y = generate_image_data()\n",
        "\n",
        "# Train/test split\n",
        "X_train, X_test, y_train, y_test = train_test_split(X, y, test_size=0.2, random_state=42)\n",
        "\n",
        "# SVM classifier\n",
        "clf = SVC(kernel='linear')\n",
        "clf.fit(X_train, y_train)\n",
        "\n",
        "# Predictions\n",
        "y_pred = clf.predict(X_test)\n",
        "\n",
        "# Evaluation\n",
        "print(\"Classification Report:\\n\", classification_report(y_test, y_pred))\n",
        "print(\"Confusion Matrix:\\n\", confusion_matrix(y_test, y_pred))\n"
      ]
    }
  ]
}